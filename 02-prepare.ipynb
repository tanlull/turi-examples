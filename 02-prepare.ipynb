{
 "cells": [
  {
   "cell_type": "code",
   "execution_count": 20,
   "metadata": {},
   "outputs": [],
   "source": [
    "import turicreate as tc"
   ]
  },
  {
   "cell_type": "code",
   "execution_count": 21,
   "metadata": {},
   "outputs": [
    {
     "data": {
      "text/html": [
       "<pre>Unexpected JPEG decode failure\t file: data/apples/ 104000462_35a76743de.jpg</pre>"
      ],
      "text/plain": [
       "Unexpected JPEG decode failure\t file: data/apples/ 104000462_35a76743de.jpg"
      ]
     },
     "metadata": {},
     "output_type": "display_data"
    },
    {
     "data": {
      "text/html": [
       "<pre>Unexpected JPEG decode failure\t file: data/apples/ 115789599_2f251b75da.jpg</pre>"
      ],
      "text/plain": [
       "Unexpected JPEG decode failure\t file: data/apples/ 115789599_2f251b75da.jpg"
      ]
     },
     "metadata": {},
     "output_type": "display_data"
    },
    {
     "data": {
      "text/html": [
       "<pre>Unexpected JPEG decode failure\t file: data/apples/ 117826715_dc2d8a5e8d.jpg</pre>"
      ],
      "text/plain": [
       "Unexpected JPEG decode failure\t file: data/apples/ 117826715_dc2d8a5e8d.jpg"
      ]
     },
     "metadata": {},
     "output_type": "display_data"
    },
    {
     "data": {
      "text/html": [
       "<pre>Unexpected JPEG decode failure\t file: data/apples/ 1179106100_aa9f2c98d9.jpg</pre>"
      ],
      "text/plain": [
       "Unexpected JPEG decode failure\t file: data/apples/ 1179106100_aa9f2c98d9.jpg"
      ]
     },
     "metadata": {},
     "output_type": "display_data"
    },
    {
     "data": {
      "text/html": [
       "<pre>Unexpected JPEG decode failure\t file: data/apples/ 1182963574_83ad2319da.jpg</pre>"
      ],
      "text/plain": [
       "Unexpected JPEG decode failure\t file: data/apples/ 1182963574_83ad2319da.jpg"
      ]
     },
     "metadata": {},
     "output_type": "display_data"
    },
    {
     "data": {
      "text/html": [
       "<pre>Unexpected JPEG decode failure\t file: data/apples/ 1260754834_c1b8a56271.jpg</pre>"
      ],
      "text/plain": [
       "Unexpected JPEG decode failure\t file: data/apples/ 1260754834_c1b8a56271.jpg"
      ]
     },
     "metadata": {},
     "output_type": "display_data"
    },
    {
     "data": {
      "text/html": [
       "<pre>Unexpected JPEG decode failure\t file: data/apples/ 1304593937_8f34a24ed8.jpg</pre>"
      ],
      "text/plain": [
       "Unexpected JPEG decode failure\t file: data/apples/ 1304593937_8f34a24ed8.jpg"
      ]
     },
     "metadata": {},
     "output_type": "display_data"
    },
    {
     "data": {
      "text/html": [
       "<pre>Unexpected JPEG decode failure\t file: data/apples/ 1306604645_3993048c41.jpg</pre>"
      ],
      "text/plain": [
       "Unexpected JPEG decode failure\t file: data/apples/ 1306604645_3993048c41.jpg"
      ]
     },
     "metadata": {},
     "output_type": "display_data"
    },
    {
     "data": {
      "text/html": [
       "<pre>Unexpected JPEG decode failure\t file: data/apples/ 1328783278_169a0592ef.jpg</pre>"
      ],
      "text/plain": [
       "Unexpected JPEG decode failure\t file: data/apples/ 1328783278_169a0592ef.jpg"
      ]
     },
     "metadata": {},
     "output_type": "display_data"
    },
    {
     "data": {
      "text/html": [
       "<pre>Unexpected JPEG decode failure\t file: data/apples/ 1394852929_d223781079.jpg</pre>"
      ],
      "text/plain": [
       "Unexpected JPEG decode failure\t file: data/apples/ 1394852929_d223781079.jpg"
      ]
     },
     "metadata": {},
     "output_type": "display_data"
    },
    {
     "data": {
      "text/html": [
       "<pre>Unexpected JPEG decode failure\t file: data/apples/ 1504907871_d7753acad5.jpg</pre>"
      ],
      "text/plain": [
       "Unexpected JPEG decode failure\t file: data/apples/ 1504907871_d7753acad5.jpg"
      ]
     },
     "metadata": {},
     "output_type": "display_data"
    },
    {
     "data": {
      "text/html": [
       "<pre>Unexpected JPEG decode failure\t file: data/apples/ 160796981_8edd401a27.jpg</pre>"
      ],
      "text/plain": [
       "Unexpected JPEG decode failure\t file: data/apples/ 160796981_8edd401a27.jpg"
      ]
     },
     "metadata": {},
     "output_type": "display_data"
    },
    {
     "data": {
      "text/html": [
       "<pre>Unexpected JPEG decode failure\t file: data/apples/ 171925626_45973ef492.jpg</pre>"
      ],
      "text/plain": [
       "Unexpected JPEG decode failure\t file: data/apples/ 171925626_45973ef492.jpg"
      ]
     },
     "metadata": {},
     "output_type": "display_data"
    },
    {
     "data": {
      "text/html": [
       "<pre>Unexpected JPEG decode failure\t file: data/apples/ 1804684289_b7c3699c03.jpg</pre>"
      ],
      "text/plain": [
       "Unexpected JPEG decode failure\t file: data/apples/ 1804684289_b7c3699c03.jpg"
      ]
     },
     "metadata": {},
     "output_type": "display_data"
    },
    {
     "data": {
      "text/html": [
       "<pre>Unexpected JPEG decode failure\t file: data/apples/ 184128307_e9300102a1.jpg</pre>"
      ],
      "text/plain": [
       "Unexpected JPEG decode failure\t file: data/apples/ 184128307_e9300102a1.jpg"
      ]
     },
     "metadata": {},
     "output_type": "display_data"
    },
    {
     "data": {
      "text/html": [
       "<pre>Unexpected JPEG decode failure\t file: data/apples/ 185059444_b9564085af.jpg</pre>"
      ],
      "text/plain": [
       "Unexpected JPEG decode failure\t file: data/apples/ 185059444_b9564085af.jpg"
      ]
     },
     "metadata": {},
     "output_type": "display_data"
    },
    {
     "data": {
      "text/html": [
       "<pre>Unexpected JPEG decode failure\t file: data/apples/ 201734928_767e867dce.jpg</pre>"
      ],
      "text/plain": [
       "Unexpected JPEG decode failure\t file: data/apples/ 201734928_767e867dce.jpg"
      ]
     },
     "metadata": {},
     "output_type": "display_data"
    },
    {
     "data": {
      "text/html": [
       "<pre>Unexpected JPEG decode failure\t file: data/apples/ 2042254527_bef05db828.jpg</pre>"
      ],
      "text/plain": [
       "Unexpected JPEG decode failure\t file: data/apples/ 2042254527_bef05db828.jpg"
      ]
     },
     "metadata": {},
     "output_type": "display_data"
    },
    {
     "data": {
      "text/html": [
       "<pre>Unexpected JPEG decode failure\t file: data/apples/ 2052423609_6f0c782364.jpg</pre>"
      ],
      "text/plain": [
       "Unexpected JPEG decode failure\t file: data/apples/ 2052423609_6f0c782364.jpg"
      ]
     },
     "metadata": {},
     "output_type": "display_data"
    },
    {
     "data": {
      "text/html": [
       "<pre>Unexpected JPEG decode failure\t file: data/apples/ 2076798325_cf48e5a89c.jpg</pre>"
      ],
      "text/plain": [
       "Unexpected JPEG decode failure\t file: data/apples/ 2076798325_cf48e5a89c.jpg"
      ]
     },
     "metadata": {},
     "output_type": "display_data"
    },
    {
     "data": {
      "text/html": [
       "<pre>Unexpected JPEG decode failure\t file: data/apples/ 2082016267_0a70f59f61.jpg</pre>"
      ],
      "text/plain": [
       "Unexpected JPEG decode failure\t file: data/apples/ 2082016267_0a70f59f61.jpg"
      ]
     },
     "metadata": {},
     "output_type": "display_data"
    },
    {
     "data": {
      "text/html": [
       "<pre>Unexpected JPEG decode failure\t file: data/apples/ 214798865_041b3973b2.jpg</pre>"
      ],
      "text/plain": [
       "Unexpected JPEG decode failure\t file: data/apples/ 214798865_041b3973b2.jpg"
      ]
     },
     "metadata": {},
     "output_type": "display_data"
    },
    {
     "data": {
      "text/html": [
       "<pre>Unexpected JPEG decode failure\t file: data/apples/ 215333205_70036372e9.jpg</pre>"
      ],
      "text/plain": [
       "Unexpected JPEG decode failure\t file: data/apples/ 215333205_70036372e9.jpg"
      ]
     },
     "metadata": {},
     "output_type": "display_data"
    },
    {
     "data": {
      "text/html": [
       "<pre>Unexpected JPEG decode failure\t file: data/apples/ 2174456425_861222cd58.jpg</pre>"
      ],
      "text/plain": [
       "Unexpected JPEG decode failure\t file: data/apples/ 2174456425_861222cd58.jpg"
      ]
     },
     "metadata": {},
     "output_type": "display_data"
    },
    {
     "data": {
      "text/html": [
       "<pre>Unexpected JPEG decode failure\t file: data/apples/ 218897149_a7fd9e6dfe.jpg</pre>"
      ],
      "text/plain": [
       "Unexpected JPEG decode failure\t file: data/apples/ 218897149_a7fd9e6dfe.jpg"
      ]
     },
     "metadata": {},
     "output_type": "display_data"
    },
    {
     "data": {
      "text/html": [
       "<pre>Unexpected JPEG decode failure\t file: data/apples/ 2203913119_74ae6d236b.jpg</pre>"
      ],
      "text/plain": [
       "Unexpected JPEG decode failure\t file: data/apples/ 2203913119_74ae6d236b.jpg"
      ]
     },
     "metadata": {},
     "output_type": "display_data"
    },
    {
     "data": {
      "text/html": [
       "<pre>Unexpected JPEG decode failure\t file: data/apples/ 2212944533_4a32fed438.jpg</pre>"
      ],
      "text/plain": [
       "Unexpected JPEG decode failure\t file: data/apples/ 2212944533_4a32fed438.jpg"
      ]
     },
     "metadata": {},
     "output_type": "display_data"
    },
    {
     "data": {
      "text/html": [
       "<pre>Unexpected JPEG decode failure\t file: data/apples/ 2243167022_425cfa4dd2.jpg</pre>"
      ],
      "text/plain": [
       "Unexpected JPEG decode failure\t file: data/apples/ 2243167022_425cfa4dd2.jpg"
      ]
     },
     "metadata": {},
     "output_type": "display_data"
    },
    {
     "data": {
      "text/html": [
       "<pre>Unexpected JPEG decode failure\t file: data/apples/ 2254465270_8e27fe87a7.jpg</pre>"
      ],
      "text/plain": [
       "Unexpected JPEG decode failure\t file: data/apples/ 2254465270_8e27fe87a7.jpg"
      ]
     },
     "metadata": {},
     "output_type": "display_data"
    },
    {
     "data": {
      "text/html": [
       "<pre>Unexpected JPEG decode failure\t file: data/apples/ 2262391575_4b7f825c53.jpg</pre>"
      ],
      "text/plain": [
       "Unexpected JPEG decode failure\t file: data/apples/ 2262391575_4b7f825c53.jpg"
      ]
     },
     "metadata": {},
     "output_type": "display_data"
    },
    {
     "data": {
      "text/html": [
       "<pre>Unexpected JPEG decode failure\t file: data/apples/ 2274162936_75d24ba910.jpg</pre>"
      ],
      "text/plain": [
       "Unexpected JPEG decode failure\t file: data/apples/ 2274162936_75d24ba910.jpg"
      ]
     },
     "metadata": {},
     "output_type": "display_data"
    },
    {
     "data": {
      "text/html": [
       "<pre>Unexpected JPEG decode failure\t file: data/apples/ 2278075847_5d4ab25c49.jpg</pre>"
      ],
      "text/plain": [
       "Unexpected JPEG decode failure\t file: data/apples/ 2278075847_5d4ab25c49.jpg"
      ]
     },
     "metadata": {},
     "output_type": "display_data"
    },
    {
     "data": {
      "text/html": [
       "<pre>Unexpected JPEG decode failure\t file: data/apples/ 2291925076_940d6215d2.jpg</pre>"
      ],
      "text/plain": [
       "Unexpected JPEG decode failure\t file: data/apples/ 2291925076_940d6215d2.jpg"
      ]
     },
     "metadata": {},
     "output_type": "display_data"
    },
    {
     "data": {
      "text/html": [
       "<pre>Unexpected JPEG decode failure\t file: data/apples/ 2295004064_dc0392e64f.jpg</pre>"
      ],
      "text/plain": [
       "Unexpected JPEG decode failure\t file: data/apples/ 2295004064_dc0392e64f.jpg"
      ]
     },
     "metadata": {},
     "output_type": "display_data"
    },
    {
     "data": {
      "text/html": [
       "<pre>Unexpected JPEG decode failure\t file: data/apples/ 2302274471_55df316d4d.jpg</pre>"
      ],
      "text/plain": [
       "Unexpected JPEG decode failure\t file: data/apples/ 2302274471_55df316d4d.jpg"
      ]
     },
     "metadata": {},
     "output_type": "display_data"
    },
    {
     "data": {
      "text/html": [
       "<pre>Unexpected JPEG decode failure\t file: data/apples/ 2308017381_5a8b2999a6.jpg</pre>"
      ],
      "text/plain": [
       "Unexpected JPEG decode failure\t file: data/apples/ 2308017381_5a8b2999a6.jpg"
      ]
     },
     "metadata": {},
     "output_type": "display_data"
    },
    {
     "data": {
      "text/html": [
       "<pre>Unexpected JPEG decode failure\t file: data/apples/ 2324724148_69ba45c3af.jpg</pre>"
      ],
      "text/plain": [
       "Unexpected JPEG decode failure\t file: data/apples/ 2324724148_69ba45c3af.jpg"
      ]
     },
     "metadata": {},
     "output_type": "display_data"
    },
    {
     "data": {
      "text/html": [
       "<pre>Unexpected JPEG decode failure\t file: data/apples/ 235360704_6cfec14970.jpg</pre>"
      ],
      "text/plain": [
       "Unexpected JPEG decode failure\t file: data/apples/ 235360704_6cfec14970.jpg"
      ]
     },
     "metadata": {},
     "output_type": "display_data"
    },
    {
     "data": {
      "text/html": [
       "<pre>Unexpected JPEG decode failure\t file: data/apples/ 2388279597_ab24794037.jpg</pre>"
      ],
      "text/plain": [
       "Unexpected JPEG decode failure\t file: data/apples/ 2388279597_ab24794037.jpg"
      ]
     },
     "metadata": {},
     "output_type": "display_data"
    },
    {
     "data": {
      "text/html": [
       "<pre>Unexpected JPEG decode failure\t file: data/apples/ 2397345702_1046caf6e7.jpg</pre>"
      ],
      "text/plain": [
       "Unexpected JPEG decode failure\t file: data/apples/ 2397345702_1046caf6e7.jpg"
      ]
     },
     "metadata": {},
     "output_type": "display_data"
    },
    {
     "data": {
      "text/html": [
       "<pre>Unexpected JPEG decode failure\t file: data/apples/ 2415172467_3341938774.jpg</pre>"
      ],
      "text/plain": [
       "Unexpected JPEG decode failure\t file: data/apples/ 2415172467_3341938774.jpg"
      ]
     },
     "metadata": {},
     "output_type": "display_data"
    },
    {
     "data": {
      "text/html": [
       "<pre>Unexpected JPEG decode failure\t file: data/apples/ 2418117350_45c621a80e.jpg</pre>"
      ],
      "text/plain": [
       "Unexpected JPEG decode failure\t file: data/apples/ 2418117350_45c621a80e.jpg"
      ]
     },
     "metadata": {},
     "output_type": "display_data"
    },
    {
     "data": {
      "text/html": [
       "<pre>Unexpected JPEG decode failure\t file: data/apples/ 2427437375_21d7e7943d.jpg</pre>"
      ],
      "text/plain": [
       "Unexpected JPEG decode failure\t file: data/apples/ 2427437375_21d7e7943d.jpg"
      ]
     },
     "metadata": {},
     "output_type": "display_data"
    },
    {
     "data": {
      "text/html": [
       "<pre>Unexpected JPEG decode failure\t file: data/apples/ 2451763516_262f984f7a.jpg</pre>"
      ],
      "text/plain": [
       "Unexpected JPEG decode failure\t file: data/apples/ 2451763516_262f984f7a.jpg"
      ]
     },
     "metadata": {},
     "output_type": "display_data"
    },
    {
     "data": {
      "text/html": [
       "<pre>Unexpected JPEG decode failure\t file: data/apples/ 248303456_de898e6923.jpg</pre>"
      ],
      "text/plain": [
       "Unexpected JPEG decode failure\t file: data/apples/ 248303456_de898e6923.jpg"
      ]
     },
     "metadata": {},
     "output_type": "display_data"
    },
    {
     "data": {
      "text/html": [
       "<pre>Unexpected JPEG decode failure\t file: data/apples/ 253970575_c99d076858.jpg</pre>"
      ],
      "text/plain": [
       "Unexpected JPEG decode failure\t file: data/apples/ 253970575_c99d076858.jpg"
      ]
     },
     "metadata": {},
     "output_type": "display_data"
    },
    {
     "data": {
      "text/html": [
       "<pre>Unexpected JPEG decode failure\t file: data/apples/ 2558119481_2ea1ab2773.jpg</pre>"
      ],
      "text/plain": [
       "Unexpected JPEG decode failure\t file: data/apples/ 2558119481_2ea1ab2773.jpg"
      ]
     },
     "metadata": {},
     "output_type": "display_data"
    },
    {
     "data": {
      "text/html": [
       "<pre>Unexpected JPEG decode failure\t file: data/apples/ 2568235213_9dd179225a.jpg</pre>"
      ],
      "text/plain": [
       "Unexpected JPEG decode failure\t file: data/apples/ 2568235213_9dd179225a.jpg"
      ]
     },
     "metadata": {},
     "output_type": "display_data"
    },
    {
     "data": {
      "text/html": [
       "<pre>Unexpected JPEG decode failure\t file: data/apples/ 2572191016_99a9acf0a2.jpg</pre>"
      ],
      "text/plain": [
       "Unexpected JPEG decode failure\t file: data/apples/ 2572191016_99a9acf0a2.jpg"
      ]
     },
     "metadata": {},
     "output_type": "display_data"
    },
    {
     "data": {
      "text/html": [
       "<pre>Unexpected JPEG decode failure\t file: data/apples/ 2574921032_a0cc29484c.jpg</pre>"
      ],
      "text/plain": [
       "Unexpected JPEG decode failure\t file: data/apples/ 2574921032_a0cc29484c.jpg"
      ]
     },
     "metadata": {},
     "output_type": "display_data"
    },
    {
     "data": {
      "text/html": [
       "<pre>Unexpected JPEG decode failure\t file: data/apples/ 2597925441_0864d85fd1.jpg</pre>"
      ],
      "text/plain": [
       "Unexpected JPEG decode failure\t file: data/apples/ 2597925441_0864d85fd1.jpg"
      ]
     },
     "metadata": {},
     "output_type": "display_data"
    },
    {
     "data": {
      "text/html": [
       "<pre>Unexpected JPEG decode failure\t file: data/apples/ 2604828915_3687ee28df.jpg</pre>"
      ],
      "text/plain": [
       "Unexpected JPEG decode failure\t file: data/apples/ 2604828915_3687ee28df.jpg"
      ]
     },
     "metadata": {},
     "output_type": "display_data"
    },
    {
     "data": {
      "text/html": [
       "<pre>Unexpected JPEG decode failure\t file: data/apples/ 2613115669_5925a48d2b.jpg</pre>"
      ],
      "text/plain": [
       "Unexpected JPEG decode failure\t file: data/apples/ 2613115669_5925a48d2b.jpg"
      ]
     },
     "metadata": {},
     "output_type": "display_data"
    },
    {
     "data": {
      "text/html": [
       "<pre>Unexpected JPEG decode failure\t file: data/apples/ 2661879692_22fa5dd50c.jpg</pre>"
      ],
      "text/plain": [
       "Unexpected JPEG decode failure\t file: data/apples/ 2661879692_22fa5dd50c.jpg"
      ]
     },
     "metadata": {},
     "output_type": "display_data"
    },
    {
     "data": {
      "text/html": [
       "<pre>Unexpected JPEG decode failure\t file: data/apples/ 2703379801_d30c64c4bc.jpg</pre>"
      ],
      "text/plain": [
       "Unexpected JPEG decode failure\t file: data/apples/ 2703379801_d30c64c4bc.jpg"
      ]
     },
     "metadata": {},
     "output_type": "display_data"
    },
    {
     "data": {
      "text/html": [
       "<pre>Unexpected JPEG decode failure\t file: data/apples/ 2729610434_84d16fc5d6.jpg</pre>"
      ],
      "text/plain": [
       "Unexpected JPEG decode failure\t file: data/apples/ 2729610434_84d16fc5d6.jpg"
      ]
     },
     "metadata": {},
     "output_type": "display_data"
    },
    {
     "data": {
      "text/html": [
       "<pre>Unexpected JPEG decode failure\t file: data/apples/ 274340706_b91c36da39.jpg</pre>"
      ],
      "text/plain": [
       "Unexpected JPEG decode failure\t file: data/apples/ 274340706_b91c36da39.jpg"
      ]
     },
     "metadata": {},
     "output_type": "display_data"
    },
    {
     "data": {
      "text/html": [
       "<pre>Unexpected JPEG decode failure\t file: data/apples/ 316531130_46022548a7.jpg</pre>"
      ],
      "text/plain": [
       "Unexpected JPEG decode failure\t file: data/apples/ 316531130_46022548a7.jpg"
      ]
     },
     "metadata": {},
     "output_type": "display_data"
    },
    {
     "data": {
      "text/html": [
       "<pre>Unexpected JPEG decode failure\t file: data/apples/ 323692966_057735235b.jpg</pre>"
      ],
      "text/plain": [
       "Unexpected JPEG decode failure\t file: data/apples/ 323692966_057735235b.jpg"
      ]
     },
     "metadata": {},
     "output_type": "display_data"
    },
    {
     "data": {
      "text/html": [
       "<pre>Unexpected JPEG decode failure\t file: data/apples/ 343031648_f7376c4465.jpg</pre>"
      ],
      "text/plain": [
       "Unexpected JPEG decode failure\t file: data/apples/ 343031648_f7376c4465.jpg"
      ]
     },
     "metadata": {},
     "output_type": "display_data"
    },
    {
     "data": {
      "text/html": [
       "<pre>Unexpected JPEG decode failure\t file: data/apples/ 350135966_6cfe2dfc9d.jpg</pre>"
      ],
      "text/plain": [
       "Unexpected JPEG decode failure\t file: data/apples/ 350135966_6cfe2dfc9d.jpg"
      ]
     },
     "metadata": {},
     "output_type": "display_data"
    },
    {
     "data": {
      "text/html": [
       "<pre>Unexpected JPEG decode failure\t file: data/apples/ 366412557_1aff044563.jpg</pre>"
      ],
      "text/plain": [
       "Unexpected JPEG decode failure\t file: data/apples/ 366412557_1aff044563.jpg"
      ]
     },
     "metadata": {},
     "output_type": "display_data"
    },
    {
     "data": {
      "text/html": [
       "<pre>Unexpected JPEG decode failure\t file: data/apples/ 366412559_af2f42f17f.jpg</pre>"
      ],
      "text/plain": [
       "Unexpected JPEG decode failure\t file: data/apples/ 366412559_af2f42f17f.jpg"
      ]
     },
     "metadata": {},
     "output_type": "display_data"
    },
    {
     "data": {
      "text/html": [
       "<pre>Unexpected JPEG decode failure\t file: data/apples/ 42144533_934946d5e7.jpg</pre>"
      ],
      "text/plain": [
       "Unexpected JPEG decode failure\t file: data/apples/ 42144533_934946d5e7.jpg"
      ]
     },
     "metadata": {},
     "output_type": "display_data"
    },
    {
     "data": {
      "text/html": [
       "<pre>Unexpected JPEG decode failure\t file: data/apples/ 428657905_0c3230d167.jpg</pre>"
      ],
      "text/plain": [
       "Unexpected JPEG decode failure\t file: data/apples/ 428657905_0c3230d167.jpg"
      ]
     },
     "metadata": {},
     "output_type": "display_data"
    },
    {
     "data": {
      "text/html": [
       "<pre>Unexpected JPEG decode failure\t file: data/apples/ 446222646_77edc5ccc6.jpg</pre>"
      ],
      "text/plain": [
       "Unexpected JPEG decode failure\t file: data/apples/ 446222646_77edc5ccc6.jpg"
      ]
     },
     "metadata": {},
     "output_type": "display_data"
    },
    {
     "data": {
      "text/html": [
       "<pre>Unexpected JPEG decode failure\t file: data/apples/ 478899730_4438c38db0.jpg</pre>"
      ],
      "text/plain": [
       "Unexpected JPEG decode failure\t file: data/apples/ 478899730_4438c38db0.jpg"
      ]
     },
     "metadata": {},
     "output_type": "display_data"
    },
    {
     "data": {
      "text/html": [
       "<pre>Unexpected JPEG decode failure\t file: data/apples/ 489644625_686d446bec.jpg</pre>"
      ],
      "text/plain": [
       "Unexpected JPEG decode failure\t file: data/apples/ 489644625_686d446bec.jpg"
      ]
     },
     "metadata": {},
     "output_type": "display_data"
    },
    {
     "data": {
      "text/html": [
       "<pre>Unexpected JPEG decode failure\t file: data/apples/ 58760053_88a8ea886a.jpg</pre>"
      ],
      "text/plain": [
       "Unexpected JPEG decode failure\t file: data/apples/ 58760053_88a8ea886a.jpg"
      ]
     },
     "metadata": {},
     "output_type": "display_data"
    },
    {
     "data": {
      "text/html": [
       "<pre>Unexpected JPEG decode failure\t file: data/apples/ 60267188_afb2f63d6b.jpg</pre>"
      ],
      "text/plain": [
       "Unexpected JPEG decode failure\t file: data/apples/ 60267188_afb2f63d6b.jpg"
      ]
     },
     "metadata": {},
     "output_type": "display_data"
    },
    {
     "data": {
      "text/html": [
       "<pre>Unexpected JPEG decode failure\t file: data/apples/ 633555088_529d37edfd.jpg</pre>"
      ],
      "text/plain": [
       "Unexpected JPEG decode failure\t file: data/apples/ 633555088_529d37edfd.jpg"
      ]
     },
     "metadata": {},
     "output_type": "display_data"
    },
    {
     "data": {
      "text/html": [
       "<pre>Unexpected JPEG decode failure\t file: data/apples/ food-apple-fruit_~INGREYPC0048.jpg</pre>"
      ],
      "text/plain": [
       "Unexpected JPEG decode failure\t file: data/apples/ food-apple-fruit_~INGREYPC0048.jpg"
      ]
     },
     "metadata": {},
     "output_type": "display_data"
    },
    {
     "data": {
      "text/html": [
       "<pre>Unexpected JPEG decode failure\t file: data/oranges/ 100224180_7116d7ebc4.jpg</pre>"
      ],
      "text/plain": [
       "Unexpected JPEG decode failure\t file: data/oranges/ 100224180_7116d7ebc4.jpg"
      ]
     },
     "metadata": {},
     "output_type": "display_data"
    },
    {
     "data": {
      "text/html": [
       "<pre>Unexpected JPEG decode failure\t file: data/oranges/ 1011243959_eee558d301.jpg</pre>"
      ],
      "text/plain": [
       "Unexpected JPEG decode failure\t file: data/oranges/ 1011243959_eee558d301.jpg"
      ]
     },
     "metadata": {},
     "output_type": "display_data"
    },
    {
     "data": {
      "text/html": [
       "<pre>Unexpected JPEG decode failure\t file: data/oranges/ 102623588_a37d7c817d.jpg</pre>"
      ],
      "text/plain": [
       "Unexpected JPEG decode failure\t file: data/oranges/ 102623588_a37d7c817d.jpg"
      ]
     },
     "metadata": {},
     "output_type": "display_data"
    },
    {
     "data": {
      "text/html": [
       "<pre>Unexpected JPEG decode failure\t file: data/oranges/ 1045890039_6cf5d9e8a6.jpg</pre>"
      ],
      "text/plain": [
       "Unexpected JPEG decode failure\t file: data/oranges/ 1045890039_6cf5d9e8a6.jpg"
      ]
     },
     "metadata": {},
     "output_type": "display_data"
    },
    {
     "data": {
      "text/html": [
       "<pre>Unexpected JPEG decode failure\t file: data/oranges/ 1046018101_ad97a2f653.jpg</pre>"
      ],
      "text/plain": [
       "Unexpected JPEG decode failure\t file: data/oranges/ 1046018101_ad97a2f653.jpg"
      ]
     },
     "metadata": {},
     "output_type": "display_data"
    },
    {
     "data": {
      "text/html": [
       "<pre>Unexpected JPEG decode failure\t file: data/oranges/ 105103631_7e52f90ba5.jpg</pre>"
      ],
      "text/plain": [
       "Unexpected JPEG decode failure\t file: data/oranges/ 105103631_7e52f90ba5.jpg"
      ]
     },
     "metadata": {},
     "output_type": "display_data"
    },
    {
     "data": {
      "text/html": [
       "<pre>Unexpected JPEG decode failure\t file: data/oranges/ 112558429_3ddd358f75.jpg</pre>"
      ],
      "text/plain": [
       "Unexpected JPEG decode failure\t file: data/oranges/ 112558429_3ddd358f75.jpg"
      ]
     },
     "metadata": {},
     "output_type": "display_data"
    },
    {
     "data": {
      "text/html": [
       "<pre>Unexpected JPEG decode failure\t file: data/oranges/ 114074589_7b65fbed6a.jpg</pre>"
      ],
      "text/plain": [
       "Unexpected JPEG decode failure\t file: data/oranges/ 114074589_7b65fbed6a.jpg"
      ]
     },
     "metadata": {},
     "output_type": "display_data"
    },
    {
     "data": {
      "text/html": [
       "<pre>Unexpected JPEG decode failure\t file: data/oranges/ 126444503_df4a2f4777.jpg</pre>"
      ],
      "text/plain": [
       "Unexpected JPEG decode failure\t file: data/oranges/ 126444503_df4a2f4777.jpg"
      ]
     },
     "metadata": {},
     "output_type": "display_data"
    },
    {
     "data": {
      "text/html": [
       "<pre>Unexpected JPEG decode failure\t file: data/oranges/ 127012193_85ba3fe81e.jpg</pre>"
      ],
      "text/plain": [
       "Unexpected JPEG decode failure\t file: data/oranges/ 127012193_85ba3fe81e.jpg"
      ]
     },
     "metadata": {},
     "output_type": "display_data"
    },
    {
     "data": {
      "text/html": [
       "<pre>Unexpected JPEG decode failure\t file: data/oranges/ 127608850_40b4594151.jpg</pre>"
      ],
      "text/plain": [
       "Unexpected JPEG decode failure\t file: data/oranges/ 127608850_40b4594151.jpg"
      ]
     },
     "metadata": {},
     "output_type": "display_data"
    },
    {
     "data": {
      "text/html": [
       "<pre>Unexpected JPEG decode failure\t file: data/oranges/ 132823935_8c0d429a25.jpg</pre>"
      ],
      "text/plain": [
       "Unexpected JPEG decode failure\t file: data/oranges/ 132823935_8c0d429a25.jpg"
      ]
     },
     "metadata": {},
     "output_type": "display_data"
    },
    {
     "data": {
      "text/html": [
       "<pre>Unexpected JPEG decode failure\t file: data/oranges/ 1344195496_21d2e9ab38.jpg</pre>"
      ],
      "text/plain": [
       "Unexpected JPEG decode failure\t file: data/oranges/ 1344195496_21d2e9ab38.jpg"
      ]
     },
     "metadata": {},
     "output_type": "display_data"
    },
    {
     "data": {
      "text/html": [
       "<pre>Unexpected JPEG decode failure\t file: data/oranges/ 1353682772_7eae27df8f.jpg</pre>"
      ],
      "text/plain": [
       "Unexpected JPEG decode failure\t file: data/oranges/ 1353682772_7eae27df8f.jpg"
      ]
     },
     "metadata": {},
     "output_type": "display_data"
    },
    {
     "data": {
      "text/html": [
       "<pre>Unexpected JPEG decode failure\t file: data/oranges/ 13853895_db1723d90b.jpg</pre>"
      ],
      "text/plain": [
       "Unexpected JPEG decode failure\t file: data/oranges/ 13853895_db1723d90b.jpg"
      ]
     },
     "metadata": {},
     "output_type": "display_data"
    },
    {
     "data": {
      "text/html": [
       "<pre>Unexpected JPEG decode failure\t file: data/oranges/ 144298121_b876721cbd.jpg</pre>"
      ],
      "text/plain": [
       "Unexpected JPEG decode failure\t file: data/oranges/ 144298121_b876721cbd.jpg"
      ]
     },
     "metadata": {},
     "output_type": "display_data"
    },
    {
     "data": {
      "text/html": [
       "<pre>Unexpected JPEG decode failure\t file: data/oranges/ 1466596032_c7ca16a8f5.jpg</pre>"
      ],
      "text/plain": [
       "Unexpected JPEG decode failure\t file: data/oranges/ 1466596032_c7ca16a8f5.jpg"
      ]
     },
     "metadata": {},
     "output_type": "display_data"
    },
    {
     "data": {
      "text/html": [
       "<pre>Unexpected JPEG decode failure\t file: data/oranges/ 148799342_b1f09f2e1a.jpg</pre>"
      ],
      "text/plain": [
       "Unexpected JPEG decode failure\t file: data/oranges/ 148799342_b1f09f2e1a.jpg"
      ]
     },
     "metadata": {},
     "output_type": "display_data"
    },
    {
     "data": {
      "text/html": [
       "<pre>Unexpected JPEG decode failure\t file: data/oranges/ 1491815164_aea0d1f185.jpg</pre>"
      ],
      "text/plain": [
       "Unexpected JPEG decode failure\t file: data/oranges/ 1491815164_aea0d1f185.jpg"
      ]
     },
     "metadata": {},
     "output_type": "display_data"
    },
    {
     "data": {
      "text/html": [
       "<pre>Unexpected JPEG decode failure\t file: data/oranges/ 152709713_c9e5f315eb.jpg</pre>"
      ],
      "text/plain": [
       "Unexpected JPEG decode failure\t file: data/oranges/ 152709713_c9e5f315eb.jpg"
      ]
     },
     "metadata": {},
     "output_type": "display_data"
    },
    {
     "data": {
      "text/html": [
       "<pre>Unexpected JPEG decode failure\t file: data/oranges/ 153764325_273760239c.jpg</pre>"
      ],
      "text/plain": [
       "Unexpected JPEG decode failure\t file: data/oranges/ 153764325_273760239c.jpg"
      ]
     },
     "metadata": {},
     "output_type": "display_data"
    },
    {
     "data": {
      "text/html": [
       "<pre>Unexpected JPEG decode failure\t file: data/oranges/ 156422936_93acec9770.jpg</pre>"
      ],
      "text/plain": [
       "Unexpected JPEG decode failure\t file: data/oranges/ 156422936_93acec9770.jpg"
      ]
     },
     "metadata": {},
     "output_type": "display_data"
    },
    {
     "data": {
      "text/html": [
       "<pre>Unexpected JPEG decode failure\t file: data/oranges/ 162317732_95a8cbd1ef.jpg</pre>"
      ],
      "text/plain": [
       "Unexpected JPEG decode failure\t file: data/oranges/ 162317732_95a8cbd1ef.jpg"
      ]
     },
     "metadata": {},
     "output_type": "display_data"
    },
    {
     "data": {
      "text/html": [
       "<pre>Unexpected JPEG decode failure\t file: data/oranges/ 1759388359_90b953bee6.jpg</pre>"
      ],
      "text/plain": [
       "Unexpected JPEG decode failure\t file: data/oranges/ 1759388359_90b953bee6.jpg"
      ]
     },
     "metadata": {},
     "output_type": "display_data"
    },
    {
     "data": {
      "text/html": [
       "<pre>Unexpected JPEG decode failure\t file: data/oranges/ 1801190923_58815871b8.jpg</pre>"
      ],
      "text/plain": [
       "Unexpected JPEG decode failure\t file: data/oranges/ 1801190923_58815871b8.jpg"
      ]
     },
     "metadata": {},
     "output_type": "display_data"
    },
    {
     "data": {
      "text/html": [
       "<pre>Unexpected JPEG decode failure\t file: data/oranges/ 18031026_afd403d51e.jpg</pre>"
      ],
      "text/plain": [
       "Unexpected JPEG decode failure\t file: data/oranges/ 18031026_afd403d51e.jpg"
      ]
     },
     "metadata": {},
     "output_type": "display_data"
    },
    {
     "data": {
      "text/html": [
       "<pre>Unexpected JPEG decode failure\t file: data/oranges/ 1810634921_dba4955d0f.jpg</pre>"
      ],
      "text/plain": [
       "Unexpected JPEG decode failure\t file: data/oranges/ 1810634921_dba4955d0f.jpg"
      ]
     },
     "metadata": {},
     "output_type": "display_data"
    },
    {
     "data": {
      "text/html": [
       "<pre>Unexpected JPEG decode failure\t file: data/oranges/ 1876100624_1b7c4b6d06.jpg</pre>"
      ],
      "text/plain": [
       "Unexpected JPEG decode failure\t file: data/oranges/ 1876100624_1b7c4b6d06.jpg"
      ]
     },
     "metadata": {},
     "output_type": "display_data"
    },
    {
     "data": {
      "text/html": [
       "<pre>Unexpected JPEG decode failure\t file: data/oranges/ 192558996_4565927e0c.jpg</pre>"
      ],
      "text/plain": [
       "Unexpected JPEG decode failure\t file: data/oranges/ 192558996_4565927e0c.jpg"
      ]
     },
     "metadata": {},
     "output_type": "display_data"
    },
    {
     "data": {
      "text/html": [
       "<pre>Unexpected JPEG decode failure\t file: data/oranges/ 195284448_f0b934dfce.jpg</pre>"
      ],
      "text/plain": [
       "Unexpected JPEG decode failure\t file: data/oranges/ 195284448_f0b934dfce.jpg"
      ]
     },
     "metadata": {},
     "output_type": "display_data"
    },
    {
     "data": {
      "text/html": [
       "<pre>Unexpected JPEG decode failure\t file: data/oranges/ 201707080_546f9ecf3e.jpg</pre>"
      ],
      "text/plain": [
       "Unexpected JPEG decode failure\t file: data/oranges/ 201707080_546f9ecf3e.jpg"
      ]
     },
     "metadata": {},
     "output_type": "display_data"
    },
    {
     "data": {
      "text/html": [
       "<pre>Unexpected JPEG decode failure\t file: data/oranges/ 2036612964_fcffb4d76f.jpg</pre>"
      ],
      "text/plain": [
       "Unexpected JPEG decode failure\t file: data/oranges/ 2036612964_fcffb4d76f.jpg"
      ]
     },
     "metadata": {},
     "output_type": "display_data"
    },
    {
     "data": {
      "text/html": [
       "<pre>Unexpected JPEG decode failure\t file: data/oranges/ 2038099343_55613455ff.jpg</pre>"
      ],
      "text/plain": [
       "Unexpected JPEG decode failure\t file: data/oranges/ 2038099343_55613455ff.jpg"
      ]
     },
     "metadata": {},
     "output_type": "display_data"
    },
    {
     "data": {
      "text/html": [
       "<pre>Unexpected JPEG decode failure\t file: data/oranges/ 2040567991_5e7ca2af77.jpg</pre>"
      ],
      "text/plain": [
       "Unexpected JPEG decode failure\t file: data/oranges/ 2040567991_5e7ca2af77.jpg"
      ]
     },
     "metadata": {},
     "output_type": "display_data"
    },
    {
     "data": {
      "text/html": [
       "<pre>Unexpected JPEG decode failure\t file: data/oranges/ 2047671599_21b68cc6f7.jpg</pre>"
      ],
      "text/plain": [
       "Unexpected JPEG decode failure\t file: data/oranges/ 2047671599_21b68cc6f7.jpg"
      ]
     },
     "metadata": {},
     "output_type": "display_data"
    },
    {
     "data": {
      "text/html": [
       "<pre>Unexpected JPEG decode failure\t file: data/oranges/ 2058596952_0d479bd6b7.jpg</pre>"
      ],
      "text/plain": [
       "Unexpected JPEG decode failure\t file: data/oranges/ 2058596952_0d479bd6b7.jpg"
      ]
     },
     "metadata": {},
     "output_type": "display_data"
    },
    {
     "data": {
      "text/html": [
       "<pre>Unexpected JPEG decode failure\t file: data/oranges/ 2064466558_bcf0236211.jpg</pre>"
      ],
      "text/plain": [
       "Unexpected JPEG decode failure\t file: data/oranges/ 2064466558_bcf0236211.jpg"
      ]
     },
     "metadata": {},
     "output_type": "display_data"
    },
    {
     "data": {
      "text/html": [
       "<pre>Unexpected JPEG decode failure\t file: data/oranges/ 2087148241_e118008ea3.jpg</pre>"
      ],
      "text/plain": [
       "Unexpected JPEG decode failure\t file: data/oranges/ 2087148241_e118008ea3.jpg"
      ]
     },
     "metadata": {},
     "output_type": "display_data"
    },
    {
     "data": {
      "text/html": [
       "<pre>Unexpected JPEG decode failure\t file: data/oranges/ 2087161072_47c2e680f0.jpg</pre>"
      ],
      "text/plain": [
       "Unexpected JPEG decode failure\t file: data/oranges/ 2087161072_47c2e680f0.jpg"
      ]
     },
     "metadata": {},
     "output_type": "display_data"
    },
    {
     "data": {
      "text/html": [
       "<pre>Unexpected JPEG decode failure\t file: data/oranges/ 2087161158_d248e2c243.jpg</pre>"
      ],
      "text/plain": [
       "Unexpected JPEG decode failure\t file: data/oranges/ 2087161158_d248e2c243.jpg"
      ]
     },
     "metadata": {},
     "output_type": "display_data"
    },
    {
     "data": {
      "text/html": [
       "<pre>Unexpected JPEG decode failure\t file: data/oranges/ 2109701081_c136d4d085.jpg</pre>"
      ],
      "text/plain": [
       "Unexpected JPEG decode failure\t file: data/oranges/ 2109701081_c136d4d085.jpg"
      ]
     },
     "metadata": {},
     "output_type": "display_data"
    },
    {
     "data": {
      "text/html": [
       "<pre>Unexpected JPEG decode failure\t file: data/oranges/ 2110724205_b1dec6293c.jpg</pre>"
      ],
      "text/plain": [
       "Unexpected JPEG decode failure\t file: data/oranges/ 2110724205_b1dec6293c.jpg"
      ]
     },
     "metadata": {},
     "output_type": "display_data"
    },
    {
     "data": {
      "text/html": [
       "<pre>Unexpected JPEG decode failure\t file: data/oranges/ 2116079408_3a6f3a2d45.jpg</pre>"
      ],
      "text/plain": [
       "Unexpected JPEG decode failure\t file: data/oranges/ 2116079408_3a6f3a2d45.jpg"
      ]
     },
     "metadata": {},
     "output_type": "display_data"
    },
    {
     "data": {
      "text/html": [
       "<pre>Unexpected JPEG decode failure\t file: data/oranges/ 2144857506_d6dae88e22.jpg</pre>"
      ],
      "text/plain": [
       "Unexpected JPEG decode failure\t file: data/oranges/ 2144857506_d6dae88e22.jpg"
      ]
     },
     "metadata": {},
     "output_type": "display_data"
    },
    {
     "data": {
      "text/html": [
       "<pre>Unexpected JPEG decode failure\t file: data/oranges/ 2176015433_d08a796695.jpg</pre>"
      ],
      "text/plain": [
       "Unexpected JPEG decode failure\t file: data/oranges/ 2176015433_d08a796695.jpg"
      ]
     },
     "metadata": {},
     "output_type": "display_data"
    },
    {
     "data": {
      "text/html": [
       "<pre>Unexpected JPEG decode failure\t file: data/oranges/ 2188175863_8b584301c3.jpg</pre>"
      ],
      "text/plain": [
       "Unexpected JPEG decode failure\t file: data/oranges/ 2188175863_8b584301c3.jpg"
      ]
     },
     "metadata": {},
     "output_type": "display_data"
    },
    {
     "data": {
      "text/html": [
       "<pre>Unexpected JPEG decode failure\t file: data/oranges/ 2195553497_e0147709ae.jpg</pre>"
      ],
      "text/plain": [
       "Unexpected JPEG decode failure\t file: data/oranges/ 2195553497_e0147709ae.jpg"
      ]
     },
     "metadata": {},
     "output_type": "display_data"
    },
    {
     "data": {
      "text/html": [
       "<pre>Unexpected JPEG decode failure\t file: data/oranges/ 2195591302_592d941d61.jpg</pre>"
      ],
      "text/plain": [
       "Unexpected JPEG decode failure\t file: data/oranges/ 2195591302_592d941d61.jpg"
      ]
     },
     "metadata": {},
     "output_type": "display_data"
    },
    {
     "data": {
      "text/html": [
       "<pre>Unexpected JPEG decode failure\t file: data/oranges/ 2197471942_76dc1ed95a.jpg</pre>"
      ],
      "text/plain": [
       "Unexpected JPEG decode failure\t file: data/oranges/ 2197471942_76dc1ed95a.jpg"
      ]
     },
     "metadata": {},
     "output_type": "display_data"
    },
    {
     "data": {
      "text/html": [
       "<pre>Unexpected JPEG decode failure\t file: data/oranges/ 2200228177_6cec887786.jpg</pre>"
      ],
      "text/plain": [
       "Unexpected JPEG decode failure\t file: data/oranges/ 2200228177_6cec887786.jpg"
      ]
     },
     "metadata": {},
     "output_type": "display_data"
    },
    {
     "data": {
      "text/html": [
       "<pre>Unexpected JPEG decode failure\t file: data/oranges/ 2209521795_c0737e8318.jpg</pre>"
      ],
      "text/plain": [
       "Unexpected JPEG decode failure\t file: data/oranges/ 2209521795_c0737e8318.jpg"
      ]
     },
     "metadata": {},
     "output_type": "display_data"
    },
    {
     "data": {
      "text/html": [
       "<pre>Unexpected JPEG decode failure\t file: data/oranges/ 221089494_3556c734be.jpg</pre>"
      ],
      "text/plain": [
       "Unexpected JPEG decode failure\t file: data/oranges/ 221089494_3556c734be.jpg"
      ]
     },
     "metadata": {},
     "output_type": "display_data"
    },
    {
     "data": {
      "text/html": [
       "<pre>Unexpected JPEG decode failure\t file: data/oranges/ 2212944533_4a32fed438.jpg</pre>"
      ],
      "text/plain": [
       "Unexpected JPEG decode failure\t file: data/oranges/ 2212944533_4a32fed438.jpg"
      ]
     },
     "metadata": {},
     "output_type": "display_data"
    },
    {
     "data": {
      "text/html": [
       "<pre>Unexpected JPEG decode failure\t file: data/oranges/ 2213295327_54f8e72628.jpg</pre>"
      ],
      "text/plain": [
       "Unexpected JPEG decode failure\t file: data/oranges/ 2213295327_54f8e72628.jpg"
      ]
     },
     "metadata": {},
     "output_type": "display_data"
    },
    {
     "data": {
      "text/html": [
       "<pre>Unexpected JPEG decode failure\t file: data/oranges/ 2215466426_7f36d0a365.jpg</pre>"
      ],
      "text/plain": [
       "Unexpected JPEG decode failure\t file: data/oranges/ 2215466426_7f36d0a365.jpg"
      ]
     },
     "metadata": {},
     "output_type": "display_data"
    },
    {
     "data": {
      "text/html": [
       "<pre>Unexpected JPEG decode failure\t file: data/oranges/ 2219377678_86c486a810.jpg</pre>"
      ],
      "text/plain": [
       "Unexpected JPEG decode failure\t file: data/oranges/ 2219377678_86c486a810.jpg"
      ]
     },
     "metadata": {},
     "output_type": "display_data"
    },
    {
     "data": {
      "text/html": [
       "<pre>Unexpected JPEG decode failure\t file: data/oranges/ 2231296011_81f925edfa.jpg</pre>"
      ],
      "text/plain": [
       "Unexpected JPEG decode failure\t file: data/oranges/ 2231296011_81f925edfa.jpg"
      ]
     },
     "metadata": {},
     "output_type": "display_data"
    },
    {
     "data": {
      "text/html": [
       "<pre>Unexpected JPEG decode failure\t file: data/oranges/ 2232066953_3fcfbaa75c.jpg</pre>"
      ],
      "text/plain": [
       "Unexpected JPEG decode failure\t file: data/oranges/ 2232066953_3fcfbaa75c.jpg"
      ]
     },
     "metadata": {},
     "output_type": "display_data"
    },
    {
     "data": {
      "text/html": [
       "<pre>Unexpected JPEG decode failure\t file: data/oranges/ 2233281481_7677568392.jpg</pre>"
      ],
      "text/plain": [
       "Unexpected JPEG decode failure\t file: data/oranges/ 2233281481_7677568392.jpg"
      ]
     },
     "metadata": {},
     "output_type": "display_data"
    },
    {
     "data": {
      "text/html": [
       "<pre>Unexpected JPEG decode failure\t file: data/oranges/ 2234898148_5e7f9b5aac.jpg</pre>"
      ],
      "text/plain": [
       "Unexpected JPEG decode failure\t file: data/oranges/ 2234898148_5e7f9b5aac.jpg"
      ]
     },
     "metadata": {},
     "output_type": "display_data"
    },
    {
     "data": {
      "text/html": [
       "<pre>Unexpected JPEG decode failure\t file: data/oranges/ 2236004939_712a6b0784.jpg</pre>"
      ],
      "text/plain": [
       "Unexpected JPEG decode failure\t file: data/oranges/ 2236004939_712a6b0784.jpg"
      ]
     },
     "metadata": {},
     "output_type": "display_data"
    },
    {
     "data": {
      "text/html": [
       "<pre>Unexpected JPEG decode failure\t file: data/oranges/ 2237589322_0db4d6529e.jpg</pre>"
      ],
      "text/plain": [
       "Unexpected JPEG decode failure\t file: data/oranges/ 2237589322_0db4d6529e.jpg"
      ]
     },
     "metadata": {},
     "output_type": "display_data"
    },
    {
     "data": {
      "text/html": [
       "<pre>Unexpected JPEG decode failure\t file: data/oranges/ 2239283266_4168c056ed.jpg</pre>"
      ],
      "text/plain": [
       "Unexpected JPEG decode failure\t file: data/oranges/ 2239283266_4168c056ed.jpg"
      ]
     },
     "metadata": {},
     "output_type": "display_data"
    },
    {
     "data": {
      "text/html": [
       "<pre>Unexpected JPEG decode failure\t file: data/oranges/ 2240029019_19bee7effb.jpg</pre>"
      ],
      "text/plain": [
       "Unexpected JPEG decode failure\t file: data/oranges/ 2240029019_19bee7effb.jpg"
      ]
     },
     "metadata": {},
     "output_type": "display_data"
    },
    {
     "data": {
      "text/html": [
       "<pre>Unexpected JPEG decode failure\t file: data/oranges/ 2242521748_3148335517.jpg</pre>"
      ],
      "text/plain": [
       "Unexpected JPEG decode failure\t file: data/oranges/ 2242521748_3148335517.jpg"
      ]
     },
     "metadata": {},
     "output_type": "display_data"
    },
    {
     "data": {
      "text/html": [
       "<pre>Unexpected JPEG decode failure\t file: data/oranges/ 2247372231_197543ea5a.jpg</pre>"
      ],
      "text/plain": [
       "Unexpected JPEG decode failure\t file: data/oranges/ 2247372231_197543ea5a.jpg"
      ]
     },
     "metadata": {},
     "output_type": "display_data"
    },
    {
     "data": {
      "text/html": [
       "<pre>Unexpected JPEG decode failure\t file: data/oranges/ 2253390774_ce8febb34d.jpg</pre>"
      ],
      "text/plain": [
       "Unexpected JPEG decode failure\t file: data/oranges/ 2253390774_ce8febb34d.jpg"
      ]
     },
     "metadata": {},
     "output_type": "display_data"
    },
    {
     "data": {
      "text/html": [
       "<pre>Unexpected JPEG decode failure\t file: data/oranges/ 2263357128_b9db60951f.jpg</pre>"
      ],
      "text/plain": [
       "Unexpected JPEG decode failure\t file: data/oranges/ 2263357128_b9db60951f.jpg"
      ]
     },
     "metadata": {},
     "output_type": "display_data"
    },
    {
     "data": {
      "text/html": [
       "<pre>Unexpected JPEG decode failure\t file: data/oranges/ 2269863750_781013425b.jpg</pre>"
      ],
      "text/plain": [
       "Unexpected JPEG decode failure\t file: data/oranges/ 2269863750_781013425b.jpg"
      ]
     },
     "metadata": {},
     "output_type": "display_data"
    },
    {
     "data": {
      "text/html": [
       "<pre>Unexpected JPEG decode failure\t file: data/oranges/ 2276359826_f3c3a22c4d.jpg</pre>"
      ],
      "text/plain": [
       "Unexpected JPEG decode failure\t file: data/oranges/ 2276359826_f3c3a22c4d.jpg"
      ]
     },
     "metadata": {},
     "output_type": "display_data"
    },
    {
     "data": {
      "text/html": [
       "<pre>Unexpected JPEG decode failure\t file: data/oranges/ 2277578003_94630dbdc6.jpg</pre>"
      ],
      "text/plain": [
       "Unexpected JPEG decode failure\t file: data/oranges/ 2277578003_94630dbdc6.jpg"
      ]
     },
     "metadata": {},
     "output_type": "display_data"
    },
    {
     "data": {
      "text/html": [
       "<pre>Unexpected JPEG decode failure\t file: data/oranges/ 2288678879_8a796f7fde.jpg</pre>"
      ],
      "text/plain": [
       "Unexpected JPEG decode failure\t file: data/oranges/ 2288678879_8a796f7fde.jpg"
      ]
     },
     "metadata": {},
     "output_type": "display_data"
    },
    {
     "data": {
      "text/html": [
       "<pre>Unexpected JPEG decode failure\t file: data/oranges/ 2300735793_5b70f67266.jpg</pre>"
      ],
      "text/plain": [
       "Unexpected JPEG decode failure\t file: data/oranges/ 2300735793_5b70f67266.jpg"
      ]
     },
     "metadata": {},
     "output_type": "display_data"
    },
    {
     "data": {
      "text/html": [
       "<pre>Unexpected JPEG decode failure\t file: data/oranges/ 2302167683_ecba0743a5.jpg</pre>"
      ],
      "text/plain": [
       "Unexpected JPEG decode failure\t file: data/oranges/ 2302167683_ecba0743a5.jpg"
      ]
     },
     "metadata": {},
     "output_type": "display_data"
    },
    {
     "data": {
      "text/html": [
       "<pre>Unexpected JPEG decode failure\t file: data/oranges/ 2306736722_ff3dd67225.jpg</pre>"
      ],
      "text/plain": [
       "Unexpected JPEG decode failure\t file: data/oranges/ 2306736722_ff3dd67225.jpg"
      ]
     },
     "metadata": {},
     "output_type": "display_data"
    },
    {
     "data": {
      "text/html": [
       "<pre>Unexpected JPEG decode failure\t file: data/oranges/ 2320254847_4d3b52068d.jpg</pre>"
      ],
      "text/plain": [
       "Unexpected JPEG decode failure\t file: data/oranges/ 2320254847_4d3b52068d.jpg"
      ]
     },
     "metadata": {},
     "output_type": "display_data"
    },
    {
     "data": {
      "text/html": [
       "<pre>Unexpected JPEG decode failure\t file: data/oranges/ 2326966645_cf3aaa913b.jpg</pre>"
      ],
      "text/plain": [
       "Unexpected JPEG decode failure\t file: data/oranges/ 2326966645_cf3aaa913b.jpg"
      ]
     },
     "metadata": {},
     "output_type": "display_data"
    },
    {
     "data": {
      "text/html": [
       "<pre>Unexpected JPEG decode failure\t file: data/oranges/ 2328669636_3f9f3c0e41.jpg</pre>"
      ],
      "text/plain": [
       "Unexpected JPEG decode failure\t file: data/oranges/ 2328669636_3f9f3c0e41.jpg"
      ]
     },
     "metadata": {},
     "output_type": "display_data"
    },
    {
     "data": {
      "text/html": [
       "<pre>Unexpected JPEG decode failure\t file: data/oranges/ 233233016_cd217ea949.jpg</pre>"
      ],
      "text/plain": [
       "Unexpected JPEG decode failure\t file: data/oranges/ 233233016_cd217ea949.jpg"
      ]
     },
     "metadata": {},
     "output_type": "display_data"
    },
    {
     "data": {
      "text/html": [
       "<pre>Unexpected JPEG decode failure\t file: data/oranges/ 2332878516_3efcb6fab7.jpg</pre>"
      ],
      "text/plain": [
       "Unexpected JPEG decode failure\t file: data/oranges/ 2332878516_3efcb6fab7.jpg"
      ]
     },
     "metadata": {},
     "output_type": "display_data"
    },
    {
     "data": {
      "text/html": [
       "<pre>Unexpected JPEG decode failure\t file: data/oranges/ 2335709556_62961a0d7b.jpg</pre>"
      ],
      "text/plain": [
       "Unexpected JPEG decode failure\t file: data/oranges/ 2335709556_62961a0d7b.jpg"
      ]
     },
     "metadata": {},
     "output_type": "display_data"
    },
    {
     "data": {
      "text/html": [
       "<pre>Unexpected JPEG decode failure\t file: data/oranges/ 2346894146_8ed84b3530.jpg</pre>"
      ],
      "text/plain": [
       "Unexpected JPEG decode failure\t file: data/oranges/ 2346894146_8ed84b3530.jpg"
      ]
     },
     "metadata": {},
     "output_type": "display_data"
    },
    {
     "data": {
      "text/html": [
       "<pre>Unexpected JPEG decode failure\t file: data/oranges/ 2347950741_92f6556bd1.jpg</pre>"
      ],
      "text/plain": [
       "Unexpected JPEG decode failure\t file: data/oranges/ 2347950741_92f6556bd1.jpg"
      ]
     },
     "metadata": {},
     "output_type": "display_data"
    },
    {
     "data": {
      "text/html": [
       "<pre>Unexpected JPEG decode failure\t file: data/oranges/ 2362537681_56b485ce5f.jpg</pre>"
      ],
      "text/plain": [
       "Unexpected JPEG decode failure\t file: data/oranges/ 2362537681_56b485ce5f.jpg"
      ]
     },
     "metadata": {},
     "output_type": "display_data"
    },
    {
     "data": {
      "text/html": [
       "<pre>Unexpected JPEG decode failure\t file: data/oranges/ 2376215859_7a876a7e90.jpg</pre>"
      ],
      "text/plain": [
       "Unexpected JPEG decode failure\t file: data/oranges/ 2376215859_7a876a7e90.jpg"
      ]
     },
     "metadata": {},
     "output_type": "display_data"
    },
    {
     "data": {
      "text/html": [
       "<pre>Unexpected JPEG decode failure\t file: data/oranges/ 2387844985_e09738d9fd.jpg</pre>"
      ],
      "text/plain": [
       "Unexpected JPEG decode failure\t file: data/oranges/ 2387844985_e09738d9fd.jpg"
      ]
     },
     "metadata": {},
     "output_type": "display_data"
    },
    {
     "data": {
      "text/html": [
       "<pre>Unexpected JPEG decode failure\t file: data/oranges/ 2393016420_20b3441aea.jpg</pre>"
      ],
      "text/plain": [
       "Unexpected JPEG decode failure\t file: data/oranges/ 2393016420_20b3441aea.jpg"
      ]
     },
     "metadata": {},
     "output_type": "display_data"
    },
    {
     "data": {
      "text/html": [
       "<pre>Unexpected JPEG decode failure\t file: data/oranges/ 2401444302_ccc1abdeef.jpg</pre>"
      ],
      "text/plain": [
       "Unexpected JPEG decode failure\t file: data/oranges/ 2401444302_ccc1abdeef.jpg"
      ]
     },
     "metadata": {},
     "output_type": "display_data"
    },
    {
     "data": {
      "text/html": [
       "<pre>Unexpected JPEG decode failure\t file: data/oranges/ 2406661496_7a9c306c66.jpg</pre>"
      ],
      "text/plain": [
       "Unexpected JPEG decode failure\t file: data/oranges/ 2406661496_7a9c306c66.jpg"
      ]
     },
     "metadata": {},
     "output_type": "display_data"
    },
    {
     "data": {
      "text/html": [
       "<pre>Unexpected JPEG decode failure\t file: data/oranges/ 2411638602_3bdd49633c.jpg</pre>"
      ],
      "text/plain": [
       "Unexpected JPEG decode failure\t file: data/oranges/ 2411638602_3bdd49633c.jpg"
      ]
     },
     "metadata": {},
     "output_type": "display_data"
    },
    {
     "data": {
      "text/html": [
       "<pre>Unexpected JPEG decode failure\t file: data/oranges/ 2415082139_51c84c390a.jpg</pre>"
      ],
      "text/plain": [
       "Unexpected JPEG decode failure\t file: data/oranges/ 2415082139_51c84c390a.jpg"
      ]
     },
     "metadata": {},
     "output_type": "display_data"
    },
    {
     "data": {
      "text/html": [
       "<pre>Unexpected JPEG decode failure\t file: data/oranges/ 2419497560_d109436edf.jpg</pre>"
      ],
      "text/plain": [
       "Unexpected JPEG decode failure\t file: data/oranges/ 2419497560_d109436edf.jpg"
      ]
     },
     "metadata": {},
     "output_type": "display_data"
    },
    {
     "data": {
      "text/html": [
       "<pre>Unexpected JPEG decode failure\t file: data/oranges/ 2419902922_b7ea575d71.jpg</pre>"
      ],
      "text/plain": [
       "Unexpected JPEG decode failure\t file: data/oranges/ 2419902922_b7ea575d71.jpg"
      ]
     },
     "metadata": {},
     "output_type": "display_data"
    },
    {
     "data": {
      "text/html": [
       "<pre>Unexpected JPEG decode failure\t file: data/oranges/ 2426987765_b22253fa49.jpg</pre>"
      ],
      "text/plain": [
       "Unexpected JPEG decode failure\t file: data/oranges/ 2426987765_b22253fa49.jpg"
      ]
     },
     "metadata": {},
     "output_type": "display_data"
    },
    {
     "data": {
      "text/html": [
       "<pre>Unexpected JPEG decode failure\t file: data/oranges/ 2430062508_1412ecef30.jpg</pre>"
      ],
      "text/plain": [
       "Unexpected JPEG decode failure\t file: data/oranges/ 2430062508_1412ecef30.jpg"
      ]
     },
     "metadata": {},
     "output_type": "display_data"
    },
    {
     "data": {
      "text/html": [
       "<pre>Unexpected JPEG decode failure\t file: data/oranges/ 2442634981_987a4e3cd0.jpg</pre>"
      ],
      "text/plain": [
       "Unexpected JPEG decode failure\t file: data/oranges/ 2442634981_987a4e3cd0.jpg"
      ]
     },
     "metadata": {},
     "output_type": "display_data"
    },
    {
     "data": {
      "text/html": [
       "<pre>Unexpected JPEG decode failure\t file: data/oranges/ 2443888953_194cb0b3ea.jpg</pre>"
      ],
      "text/plain": [
       "Unexpected JPEG decode failure\t file: data/oranges/ 2443888953_194cb0b3ea.jpg"
      ]
     },
     "metadata": {},
     "output_type": "display_data"
    },
    {
     "data": {
      "text/html": [
       "<pre>Unexpected JPEG decode failure\t file: data/oranges/ 2459928437_c64ba3e759.jpg</pre>"
      ],
      "text/plain": [
       "Unexpected JPEG decode failure\t file: data/oranges/ 2459928437_c64ba3e759.jpg"
      ]
     },
     "metadata": {},
     "output_type": "display_data"
    },
    {
     "data": {
      "text/html": [
       "<pre>Unexpected JPEG decode failure\t file: data/oranges/ 2461102065_42297e2754.jpg</pre>"
      ],
      "text/plain": [
       "Unexpected JPEG decode failure\t file: data/oranges/ 2461102065_42297e2754.jpg"
      ]
     },
     "metadata": {},
     "output_type": "display_data"
    },
    {
     "data": {
      "text/html": [
       "<pre>Unexpected JPEG decode failure\t file: data/oranges/ 2472820130_f1c8ed2711.jpg</pre>"
      ],
      "text/plain": [
       "Unexpected JPEG decode failure\t file: data/oranges/ 2472820130_f1c8ed2711.jpg"
      ]
     },
     "metadata": {},
     "output_type": "display_data"
    },
    {
     "data": {
      "text/html": [
       "<pre>Unexpected JPEG decode failure\t file: data/oranges/ 2477406184_f0bb792928.jpg</pre>"
      ],
      "text/plain": [
       "Unexpected JPEG decode failure\t file: data/oranges/ 2477406184_f0bb792928.jpg"
      ]
     },
     "metadata": {},
     "output_type": "display_data"
    },
    {
     "data": {
      "text/html": [
       "<pre>Unexpected JPEG decode failure\t file: data/oranges/ 2510468266_0ff1bcdef1.jpg</pre>"
      ],
      "text/plain": [
       "Unexpected JPEG decode failure\t file: data/oranges/ 2510468266_0ff1bcdef1.jpg"
      ]
     },
     "metadata": {},
     "output_type": "display_data"
    },
    {
     "data": {
      "text/html": [
       "<pre>Unexpected JPEG decode failure\t file: data/oranges/ 251081419_a45e8f166d.jpg</pre>"
      ],
      "text/plain": [
       "Unexpected JPEG decode failure\t file: data/oranges/ 251081419_a45e8f166d.jpg"
      ]
     },
     "metadata": {},
     "output_type": "display_data"
    },
    {
     "data": {
      "text/html": [
       "<pre>Unexpected JPEG decode failure\t file: data/oranges/ 2517956888_d868165efd.jpg</pre>"
      ],
      "text/plain": [
       "Unexpected JPEG decode failure\t file: data/oranges/ 2517956888_d868165efd.jpg"
      ]
     },
     "metadata": {},
     "output_type": "display_data"
    },
    {
     "data": {
      "text/html": [
       "<pre>Unexpected JPEG decode failure\t file: data/oranges/ 2538743859_8acf19192a.jpg</pre>"
      ],
      "text/plain": [
       "Unexpected JPEG decode failure\t file: data/oranges/ 2538743859_8acf19192a.jpg"
      ]
     },
     "metadata": {},
     "output_type": "display_data"
    },
    {
     "data": {
      "text/html": [
       "<pre>Unexpected JPEG decode failure\t file: data/oranges/ 2548165135_151b07f9d5.jpg</pre>"
      ],
      "text/plain": [
       "Unexpected JPEG decode failure\t file: data/oranges/ 2548165135_151b07f9d5.jpg"
      ]
     },
     "metadata": {},
     "output_type": "display_data"
    },
    {
     "data": {
      "text/html": [
       "<pre>Unexpected JPEG decode failure\t file: data/oranges/ 2548674291_573faf07fd.jpg</pre>"
      ],
      "text/plain": [
       "Unexpected JPEG decode failure\t file: data/oranges/ 2548674291_573faf07fd.jpg"
      ]
     },
     "metadata": {},
     "output_type": "display_data"
    },
    {
     "data": {
      "text/html": [
       "<pre>Unexpected JPEG decode failure\t file: data/oranges/ 2560370381_da470510a1.jpg</pre>"
      ],
      "text/plain": [
       "Unexpected JPEG decode failure\t file: data/oranges/ 2560370381_da470510a1.jpg"
      ]
     },
     "metadata": {},
     "output_type": "display_data"
    },
    {
     "data": {
      "text/html": [
       "<pre>Unexpected JPEG decode failure\t file: data/oranges/ 2567112349_195bfec71f.jpg</pre>"
      ],
      "text/plain": [
       "Unexpected JPEG decode failure\t file: data/oranges/ 2567112349_195bfec71f.jpg"
      ]
     },
     "metadata": {},
     "output_type": "display_data"
    },
    {
     "data": {
      "text/html": [
       "<pre>Unexpected JPEG decode failure\t file: data/oranges/ 2569382935_04c5e5a87e.jpg</pre>"
      ],
      "text/plain": [
       "Unexpected JPEG decode failure\t file: data/oranges/ 2569382935_04c5e5a87e.jpg"
      ]
     },
     "metadata": {},
     "output_type": "display_data"
    },
    {
     "data": {
      "text/html": [
       "<pre>Unexpected JPEG decode failure\t file: data/oranges/ 2572191016_99a9acf0a2.jpg</pre>"
      ],
      "text/plain": [
       "Unexpected JPEG decode failure\t file: data/oranges/ 2572191016_99a9acf0a2.jpg"
      ]
     },
     "metadata": {},
     "output_type": "display_data"
    },
    {
     "data": {
      "text/html": [
       "<pre>Unexpected JPEG decode failure\t file: data/oranges/ 2583313826_c39fcbbaa2.jpg</pre>"
      ],
      "text/plain": [
       "Unexpected JPEG decode failure\t file: data/oranges/ 2583313826_c39fcbbaa2.jpg"
      ]
     },
     "metadata": {},
     "output_type": "display_data"
    },
    {
     "data": {
      "text/html": [
       "<pre>Unexpected JPEG decode failure\t file: data/oranges/ 2591459894_0b231e890b.jpg</pre>"
      ],
      "text/plain": [
       "Unexpected JPEG decode failure\t file: data/oranges/ 2591459894_0b231e890b.jpg"
      ]
     },
     "metadata": {},
     "output_type": "display_data"
    },
    {
     "data": {
      "text/html": [
       "<pre>Unexpected JPEG decode failure\t file: data/oranges/ 2618374975_80c20852d2.jpg</pre>"
      ],
      "text/plain": [
       "Unexpected JPEG decode failure\t file: data/oranges/ 2618374975_80c20852d2.jpg"
      ]
     },
     "metadata": {},
     "output_type": "display_data"
    },
    {
     "data": {
      "text/html": [
       "<pre>Unexpected JPEG decode failure\t file: data/oranges/ 2619775838_2894e6f2d0.jpg</pre>"
      ],
      "text/plain": [
       "Unexpected JPEG decode failure\t file: data/oranges/ 2619775838_2894e6f2d0.jpg"
      ]
     },
     "metadata": {},
     "output_type": "display_data"
    },
    {
     "data": {
      "text/html": [
       "<pre>Unexpected JPEG decode failure\t file: data/oranges/ 2665483444_99c9a233e1.jpg</pre>"
      ],
      "text/plain": [
       "Unexpected JPEG decode failure\t file: data/oranges/ 2665483444_99c9a233e1.jpg"
      ]
     },
     "metadata": {},
     "output_type": "display_data"
    },
    {
     "data": {
      "text/html": [
       "<pre>Unexpected JPEG decode failure\t file: data/oranges/ 2711953264_e415333383.jpg</pre>"
      ],
      "text/plain": [
       "Unexpected JPEG decode failure\t file: data/oranges/ 2711953264_e415333383.jpg"
      ]
     },
     "metadata": {},
     "output_type": "display_data"
    },
    {
     "data": {
      "text/html": [
       "<pre>Unexpected JPEG decode failure\t file: data/oranges/ 2726737717_f4996727e9.jpg</pre>"
      ],
      "text/plain": [
       "Unexpected JPEG decode failure\t file: data/oranges/ 2726737717_f4996727e9.jpg"
      ]
     },
     "metadata": {},
     "output_type": "display_data"
    },
    {
     "data": {
      "text/html": [
       "<pre>Unexpected JPEG decode failure\t file: data/oranges/ 2726777819_cba791a76e.jpg</pre>"
      ],
      "text/plain": [
       "Unexpected JPEG decode failure\t file: data/oranges/ 2726777819_cba791a76e.jpg"
      ]
     },
     "metadata": {},
     "output_type": "display_data"
    },
    {
     "data": {
      "text/html": [
       "<pre>Unexpected JPEG decode failure\t file: data/oranges/ 2746043156_c0306e911e.jpg</pre>"
      ],
      "text/plain": [
       "Unexpected JPEG decode failure\t file: data/oranges/ 2746043156_c0306e911e.jpg"
      ]
     },
     "metadata": {},
     "output_type": "display_data"
    },
    {
     "data": {
      "text/html": [
       "<pre>Unexpected JPEG decode failure\t file: data/oranges/ 2747401593_a420f6d836.jpg</pre>"
      ],
      "text/plain": [
       "Unexpected JPEG decode failure\t file: data/oranges/ 2747401593_a420f6d836.jpg"
      ]
     },
     "metadata": {},
     "output_type": "display_data"
    },
    {
     "data": {
      "text/html": [
       "<pre>Unexpected JPEG decode failure\t file: data/oranges/ 280576838_7432980621.jpg</pre>"
      ],
      "text/plain": [
       "Unexpected JPEG decode failure\t file: data/oranges/ 280576838_7432980621.jpg"
      ]
     },
     "metadata": {},
     "output_type": "display_data"
    },
    {
     "data": {
      "text/html": [
       "<pre>Unexpected JPEG decode failure\t file: data/oranges/ 303778454_c939a78703.jpg</pre>"
      ],
      "text/plain": [
       "Unexpected JPEG decode failure\t file: data/oranges/ 303778454_c939a78703.jpg"
      ]
     },
     "metadata": {},
     "output_type": "display_data"
    },
    {
     "data": {
      "text/html": [
       "<pre>Unexpected JPEG decode failure\t file: data/oranges/ 3107345_f7ed27a880.jpg</pre>"
      ],
      "text/plain": [
       "Unexpected JPEG decode failure\t file: data/oranges/ 3107345_f7ed27a880.jpg"
      ]
     },
     "metadata": {},
     "output_type": "display_data"
    },
    {
     "data": {
      "text/html": [
       "<pre>Unexpected JPEG decode failure\t file: data/oranges/ 312132087_62499bf6da.jpg</pre>"
      ],
      "text/plain": [
       "Unexpected JPEG decode failure\t file: data/oranges/ 312132087_62499bf6da.jpg"
      ]
     },
     "metadata": {},
     "output_type": "display_data"
    },
    {
     "data": {
      "text/html": [
       "<pre>Unexpected JPEG decode failure\t file: data/oranges/ 31634997_0e713640e6.jpg</pre>"
      ],
      "text/plain": [
       "Unexpected JPEG decode failure\t file: data/oranges/ 31634997_0e713640e6.jpg"
      ]
     },
     "metadata": {},
     "output_type": "display_data"
    },
    {
     "data": {
      "text/html": [
       "<pre>Unexpected JPEG decode failure\t file: data/oranges/ 316995832_62af1f1a72.jpg</pre>"
      ],
      "text/plain": [
       "Unexpected JPEG decode failure\t file: data/oranges/ 316995832_62af1f1a72.jpg"
      ]
     },
     "metadata": {},
     "output_type": "display_data"
    },
    {
     "data": {
      "text/html": [
       "<pre>Unexpected JPEG decode failure\t file: data/oranges/ 318724304_0b26a26806.jpg</pre>"
      ],
      "text/plain": [
       "Unexpected JPEG decode failure\t file: data/oranges/ 318724304_0b26a26806.jpg"
      ]
     },
     "metadata": {},
     "output_type": "display_data"
    },
    {
     "data": {
      "text/html": [
       "<pre>Unexpected JPEG decode failure\t file: data/oranges/ 319918555_def61c26f9.jpg</pre>"
      ],
      "text/plain": [
       "Unexpected JPEG decode failure\t file: data/oranges/ 319918555_def61c26f9.jpg"
      ]
     },
     "metadata": {},
     "output_type": "display_data"
    },
    {
     "data": {
      "text/html": [
       "<pre>Unexpected JPEG decode failure\t file: data/oranges/ 326111485_43e1440d4b.jpg</pre>"
      ],
      "text/plain": [
       "Unexpected JPEG decode failure\t file: data/oranges/ 326111485_43e1440d4b.jpg"
      ]
     },
     "metadata": {},
     "output_type": "display_data"
    },
    {
     "data": {
      "text/html": [
       "<pre>Unexpected JPEG decode failure\t file: data/oranges/ 338401347_9c3ca0596a.jpg</pre>"
      ],
      "text/plain": [
       "Unexpected JPEG decode failure\t file: data/oranges/ 338401347_9c3ca0596a.jpg"
      ]
     },
     "metadata": {},
     "output_type": "display_data"
    },
    {
     "data": {
      "text/html": [
       "<pre>Unexpected JPEG decode failure\t file: data/oranges/ 339388443_0b5bbe1b2e.jpg</pre>"
      ],
      "text/plain": [
       "Unexpected JPEG decode failure\t file: data/oranges/ 339388443_0b5bbe1b2e.jpg"
      ]
     },
     "metadata": {},
     "output_type": "display_data"
    },
    {
     "data": {
      "text/html": [
       "<pre>Unexpected JPEG decode failure\t file: data/oranges/ 357106022_4afb844f38.jpg</pre>"
      ],
      "text/plain": [
       "Unexpected JPEG decode failure\t file: data/oranges/ 357106022_4afb844f38.jpg"
      ]
     },
     "metadata": {},
     "output_type": "display_data"
    },
    {
     "data": {
      "text/html": [
       "<pre>Unexpected JPEG decode failure\t file: data/oranges/ 36638217_418e529657.jpg</pre>"
      ],
      "text/plain": [
       "Unexpected JPEG decode failure\t file: data/oranges/ 36638217_418e529657.jpg"
      ]
     },
     "metadata": {},
     "output_type": "display_data"
    },
    {
     "data": {
      "text/html": [
       "<pre>Unexpected JPEG decode failure\t file: data/oranges/ 367996507_cfe08bede6.jpg</pre>"
      ],
      "text/plain": [
       "Unexpected JPEG decode failure\t file: data/oranges/ 367996507_cfe08bede6.jpg"
      ]
     },
     "metadata": {},
     "output_type": "display_data"
    },
    {
     "data": {
      "text/html": [
       "<pre>Unexpected JPEG decode failure\t file: data/oranges/ 367996508_ff5e124396.jpg</pre>"
      ],
      "text/plain": [
       "Unexpected JPEG decode failure\t file: data/oranges/ 367996508_ff5e124396.jpg"
      ]
     },
     "metadata": {},
     "output_type": "display_data"
    },
    {
     "data": {
      "text/html": [
       "<pre>Unexpected JPEG decode failure\t file: data/oranges/ 372260555_f098b313e7.jpg</pre>"
      ],
      "text/plain": [
       "Unexpected JPEG decode failure\t file: data/oranges/ 372260555_f098b313e7.jpg"
      ]
     },
     "metadata": {},
     "output_type": "display_data"
    },
    {
     "data": {
      "text/html": [
       "<pre>Unexpected JPEG decode failure\t file: data/oranges/ 375517647_3548330e03.jpg</pre>"
      ],
      "text/plain": [
       "Unexpected JPEG decode failure\t file: data/oranges/ 375517647_3548330e03.jpg"
      ]
     },
     "metadata": {},
     "output_type": "display_data"
    },
    {
     "data": {
      "text/html": [
       "<pre>Unexpected JPEG decode failure\t file: data/oranges/ 379574983_73fed000b4.jpg</pre>"
      ],
      "text/plain": [
       "Unexpected JPEG decode failure\t file: data/oranges/ 379574983_73fed000b4.jpg"
      ]
     },
     "metadata": {},
     "output_type": "display_data"
    },
    {
     "data": {
      "text/html": [
       "<pre>Unexpected JPEG decode failure\t file: data/oranges/ 384965511_bb66981caa.jpg</pre>"
      ],
      "text/plain": [
       "Unexpected JPEG decode failure\t file: data/oranges/ 384965511_bb66981caa.jpg"
      ]
     },
     "metadata": {},
     "output_type": "display_data"
    },
    {
     "data": {
      "text/html": [
       "<pre>Unexpected JPEG decode failure\t file: data/oranges/ 387608335_67d7abcc33.jpg</pre>"
      ],
      "text/plain": [
       "Unexpected JPEG decode failure\t file: data/oranges/ 387608335_67d7abcc33.jpg"
      ]
     },
     "metadata": {},
     "output_type": "display_data"
    },
    {
     "data": {
      "text/html": [
       "<pre>Unexpected JPEG decode failure\t file: data/oranges/ 388063328_b92d8e9249.jpg</pre>"
      ],
      "text/plain": [
       "Unexpected JPEG decode failure\t file: data/oranges/ 388063328_b92d8e9249.jpg"
      ]
     },
     "metadata": {},
     "output_type": "display_data"
    },
    {
     "data": {
      "text/html": [
       "<pre>Unexpected JPEG decode failure\t file: data/oranges/ 397814440_b98f2e3811.jpg</pre>"
      ],
      "text/plain": [
       "Unexpected JPEG decode failure\t file: data/oranges/ 397814440_b98f2e3811.jpg"
      ]
     },
     "metadata": {},
     "output_type": "display_data"
    },
    {
     "data": {
      "text/html": [
       "<pre>Unexpected JPEG decode failure\t file: data/oranges/ 403216052_20de44f096.jpg</pre>"
      ],
      "text/plain": [
       "Unexpected JPEG decode failure\t file: data/oranges/ 403216052_20de44f096.jpg"
      ]
     },
     "metadata": {},
     "output_type": "display_data"
    },
    {
     "data": {
      "text/html": [
       "<pre>Unexpected JPEG decode failure\t file: data/oranges/ 405028224_7c2ad42eb0.jpg</pre>"
      ],
      "text/plain": [
       "Unexpected JPEG decode failure\t file: data/oranges/ 405028224_7c2ad42eb0.jpg"
      ]
     },
     "metadata": {},
     "output_type": "display_data"
    },
    {
     "data": {
      "text/html": [
       "<pre>Unexpected JPEG decode failure\t file: data/oranges/ 406212082_ec5f9c8f91.jpg</pre>"
      ],
      "text/plain": [
       "Unexpected JPEG decode failure\t file: data/oranges/ 406212082_ec5f9c8f91.jpg"
      ]
     },
     "metadata": {},
     "output_type": "display_data"
    },
    {
     "data": {
      "text/html": [
       "<pre>Unexpected JPEG decode failure\t file: data/oranges/ 414400435_fb9521194d.jpg</pre>"
      ],
      "text/plain": [
       "Unexpected JPEG decode failure\t file: data/oranges/ 414400435_fb9521194d.jpg"
      ]
     },
     "metadata": {},
     "output_type": "display_data"
    },
    {
     "data": {
      "text/html": [
       "<pre>Unexpected JPEG decode failure\t file: data/oranges/ 418329954_c83fa39afd.jpg</pre>"
      ],
      "text/plain": [
       "Unexpected JPEG decode failure\t file: data/oranges/ 418329954_c83fa39afd.jpg"
      ]
     },
     "metadata": {},
     "output_type": "display_data"
    },
    {
     "data": {
      "text/html": [
       "<pre>Unexpected JPEG decode failure\t file: data/oranges/ 424507392_8e2932d232.jpg</pre>"
      ],
      "text/plain": [
       "Unexpected JPEG decode failure\t file: data/oranges/ 424507392_8e2932d232.jpg"
      ]
     },
     "metadata": {},
     "output_type": "display_data"
    },
    {
     "data": {
      "text/html": [
       "<pre>Unexpected JPEG decode failure\t file: data/oranges/ 425297117_06e9f90f0a.jpg</pre>"
      ],
      "text/plain": [
       "Unexpected JPEG decode failure\t file: data/oranges/ 425297117_06e9f90f0a.jpg"
      ]
     },
     "metadata": {},
     "output_type": "display_data"
    },
    {
     "data": {
      "text/html": [
       "<pre>Unexpected JPEG decode failure\t file: data/oranges/ 4302897_2a8a36d4fa.jpg</pre>"
      ],
      "text/plain": [
       "Unexpected JPEG decode failure\t file: data/oranges/ 4302897_2a8a36d4fa.jpg"
      ]
     },
     "metadata": {},
     "output_type": "display_data"
    },
    {
     "data": {
      "text/html": [
       "<pre>Unexpected JPEG decode failure\t file: data/oranges/ 436349659_05e6670754.jpg</pre>"
      ],
      "text/plain": [
       "Unexpected JPEG decode failure\t file: data/oranges/ 436349659_05e6670754.jpg"
      ]
     },
     "metadata": {},
     "output_type": "display_data"
    },
    {
     "data": {
      "text/html": [
       "<pre>Unexpected JPEG decode failure\t file: data/oranges/ 437330351_877b9b6a2e.jpg</pre>"
      ],
      "text/plain": [
       "Unexpected JPEG decode failure\t file: data/oranges/ 437330351_877b9b6a2e.jpg"
      ]
     },
     "metadata": {},
     "output_type": "display_data"
    },
    {
     "data": {
      "text/html": [
       "<pre>Unexpected JPEG decode failure\t file: data/oranges/ 441393552_9f78263ab1.jpg</pre>"
      ],
      "text/plain": [
       "Unexpected JPEG decode failure\t file: data/oranges/ 441393552_9f78263ab1.jpg"
      ]
     },
     "metadata": {},
     "output_type": "display_data"
    },
    {
     "data": {
      "text/html": [
       "<pre>Unexpected JPEG decode failure\t file: data/oranges/ 441637129_87e948cd4d.jpg</pre>"
      ],
      "text/plain": [
       "Unexpected JPEG decode failure\t file: data/oranges/ 441637129_87e948cd4d.jpg"
      ]
     },
     "metadata": {},
     "output_type": "display_data"
    },
    {
     "data": {
      "text/html": [
       "<pre>Unexpected JPEG decode failure\t file: data/oranges/ 445682473_744b837e7b.jpg</pre>"
      ],
      "text/plain": [
       "Unexpected JPEG decode failure\t file: data/oranges/ 445682473_744b837e7b.jpg"
      ]
     },
     "metadata": {},
     "output_type": "display_data"
    },
    {
     "data": {
      "text/html": [
       "<pre>Unexpected JPEG decode failure\t file: data/oranges/ 451099773_47c771e47d.jpg</pre>"
      ],
      "text/plain": [
       "Unexpected JPEG decode failure\t file: data/oranges/ 451099773_47c771e47d.jpg"
      ]
     },
     "metadata": {},
     "output_type": "display_data"
    },
    {
     "data": {
      "text/html": [
       "<pre>Unexpected JPEG decode failure\t file: data/oranges/ 471710756_7bde5d00ed.jpg</pre>"
      ],
      "text/plain": [
       "Unexpected JPEG decode failure\t file: data/oranges/ 471710756_7bde5d00ed.jpg"
      ]
     },
     "metadata": {},
     "output_type": "display_data"
    },
    {
     "data": {
      "text/html": [
       "<pre>Unexpected JPEG decode failure\t file: data/oranges/ 471753543_db2c06e3fc.jpg</pre>"
      ],
      "text/plain": [
       "Unexpected JPEG decode failure\t file: data/oranges/ 471753543_db2c06e3fc.jpg"
      ]
     },
     "metadata": {},
     "output_type": "display_data"
    },
    {
     "data": {
      "text/html": [
       "<pre>Unexpected JPEG decode failure\t file: data/oranges/ 473809479_ae35165f2b.jpg</pre>"
      ],
      "text/plain": [
       "Unexpected JPEG decode failure\t file: data/oranges/ 473809479_ae35165f2b.jpg"
      ]
     },
     "metadata": {},
     "output_type": "display_data"
    },
    {
     "data": {
      "text/html": [
       "<pre>Unexpected JPEG decode failure\t file: data/oranges/ 473809709_e431bf4ab5.jpg</pre>"
      ],
      "text/plain": [
       "Unexpected JPEG decode failure\t file: data/oranges/ 473809709_e431bf4ab5.jpg"
      ]
     },
     "metadata": {},
     "output_type": "display_data"
    },
    {
     "data": {
      "text/html": [
       "<pre>Unexpected JPEG decode failure\t file: data/oranges/ 477412525_939cd8af73.jpg</pre>"
      ],
      "text/plain": [
       "Unexpected JPEG decode failure\t file: data/oranges/ 477412525_939cd8af73.jpg"
      ]
     },
     "metadata": {},
     "output_type": "display_data"
    },
    {
     "data": {
      "text/html": [
       "<pre>Unexpected JPEG decode failure\t file: data/oranges/ 478676390_4126671e15.jpg</pre>"
      ],
      "text/plain": [
       "Unexpected JPEG decode failure\t file: data/oranges/ 478676390_4126671e15.jpg"
      ]
     },
     "metadata": {},
     "output_type": "display_data"
    },
    {
     "data": {
      "text/html": [
       "<pre>Unexpected JPEG decode failure\t file: data/oranges/ 485567997_db82a13d72.jpg</pre>"
      ],
      "text/plain": [
       "Unexpected JPEG decode failure\t file: data/oranges/ 485567997_db82a13d72.jpg"
      ]
     },
     "metadata": {},
     "output_type": "display_data"
    },
    {
     "data": {
      "text/html": [
       "<pre>Unexpected JPEG decode failure\t file: data/oranges/ 488106256_6611ee6efb.jpg</pre>"
      ],
      "text/plain": [
       "Unexpected JPEG decode failure\t file: data/oranges/ 488106256_6611ee6efb.jpg"
      ]
     },
     "metadata": {},
     "output_type": "display_data"
    },
    {
     "data": {
      "text/html": [
       "<pre>Unexpected JPEG decode failure\t file: data/oranges/ 494297072_656a1d9ff3.jpg</pre>"
      ],
      "text/plain": [
       "Unexpected JPEG decode failure\t file: data/oranges/ 494297072_656a1d9ff3.jpg"
      ]
     },
     "metadata": {},
     "output_type": "display_data"
    },
    {
     "data": {
      "text/html": [
       "<pre>Unexpected JPEG decode failure\t file: data/oranges/ 515509744_1b5b010b0d.jpg</pre>"
      ],
      "text/plain": [
       "Unexpected JPEG decode failure\t file: data/oranges/ 515509744_1b5b010b0d.jpg"
      ]
     },
     "metadata": {},
     "output_type": "display_data"
    },
    {
     "data": {
      "text/html": [
       "<pre>Unexpected JPEG decode failure\t file: data/oranges/ 5483408_ce7c35cc87.jpg</pre>"
      ],
      "text/plain": [
       "Unexpected JPEG decode failure\t file: data/oranges/ 5483408_ce7c35cc87.jpg"
      ]
     },
     "metadata": {},
     "output_type": "display_data"
    },
    {
     "data": {
      "text/html": [
       "<pre>Unexpected JPEG decode failure\t file: data/oranges/ 55300449_75dc5b36c0.jpg</pre>"
      ],
      "text/plain": [
       "Unexpected JPEG decode failure\t file: data/oranges/ 55300449_75dc5b36c0.jpg"
      ]
     },
     "metadata": {},
     "output_type": "display_data"
    },
    {
     "data": {
      "text/html": [
       "<pre>Unexpected JPEG decode failure\t file: data/oranges/ 603187558_f5ec61ecce.jpg</pre>"
      ],
      "text/plain": [
       "Unexpected JPEG decode failure\t file: data/oranges/ 603187558_f5ec61ecce.jpg"
      ]
     },
     "metadata": {},
     "output_type": "display_data"
    },
    {
     "data": {
      "text/html": [
       "<pre>Unexpected JPEG decode failure\t file: data/oranges/ 61249534_1d2e5c9a39.jpg</pre>"
      ],
      "text/plain": [
       "Unexpected JPEG decode failure\t file: data/oranges/ 61249534_1d2e5c9a39.jpg"
      ]
     },
     "metadata": {},
     "output_type": "display_data"
    },
    {
     "data": {
      "text/html": [
       "<pre>Unexpected JPEG decode failure\t file: data/oranges/ 654231830_4ba6e7b343.jpg</pre>"
      ],
      "text/plain": [
       "Unexpected JPEG decode failure\t file: data/oranges/ 654231830_4ba6e7b343.jpg"
      ]
     },
     "metadata": {},
     "output_type": "display_data"
    },
    {
     "data": {
      "text/html": [
       "<pre>Unexpected JPEG decode failure\t file: data/oranges/ 667709629_001c1a4547.jpg</pre>"
      ],
      "text/plain": [
       "Unexpected JPEG decode failure\t file: data/oranges/ 667709629_001c1a4547.jpg"
      ]
     },
     "metadata": {},
     "output_type": "display_data"
    },
    {
     "data": {
      "text/html": [
       "<pre>Unexpected JPEG decode failure\t file: data/oranges/ 668568506_d965a82e74.jpg</pre>"
      ],
      "text/plain": [
       "Unexpected JPEG decode failure\t file: data/oranges/ 668568506_d965a82e74.jpg"
      ]
     },
     "metadata": {},
     "output_type": "display_data"
    },
    {
     "data": {
      "text/html": [
       "<pre>Unexpected JPEG decode failure\t file: data/oranges/ 67087214_abc34b69ac.jpg</pre>"
      ],
      "text/plain": [
       "Unexpected JPEG decode failure\t file: data/oranges/ 67087214_abc34b69ac.jpg"
      ]
     },
     "metadata": {},
     "output_type": "display_data"
    },
    {
     "data": {
      "text/html": [
       "<pre>Unexpected JPEG decode failure\t file: data/oranges/ 672673212_2c21e03e50.jpg</pre>"
      ],
      "text/plain": [
       "Unexpected JPEG decode failure\t file: data/oranges/ 672673212_2c21e03e50.jpg"
      ]
     },
     "metadata": {},
     "output_type": "display_data"
    },
    {
     "data": {
      "text/html": [
       "<pre>Unexpected JPEG decode failure\t file: data/oranges/ 67803408_f396af2120.jpg</pre>"
      ],
      "text/plain": [
       "Unexpected JPEG decode failure\t file: data/oranges/ 67803408_f396af2120.jpg"
      ]
     },
     "metadata": {},
     "output_type": "display_data"
    },
    {
     "data": {
      "text/html": [
       "<pre>Unexpected JPEG decode failure\t file: data/oranges/ 682555225_9a216bc3df.jpg</pre>"
      ],
      "text/plain": [
       "Unexpected JPEG decode failure\t file: data/oranges/ 682555225_9a216bc3df.jpg"
      ]
     },
     "metadata": {},
     "output_type": "display_data"
    },
    {
     "data": {
      "text/html": [
       "<pre>Unexpected JPEG decode failure\t file: data/oranges/ 6892410_a58ed8e78b.jpg</pre>"
      ],
      "text/plain": [
       "Unexpected JPEG decode failure\t file: data/oranges/ 6892410_a58ed8e78b.jpg"
      ]
     },
     "metadata": {},
     "output_type": "display_data"
    },
    {
     "data": {
      "text/html": [
       "<pre>Unexpected JPEG decode failure\t file: data/oranges/ 71291416_cc82cdc745.jpg</pre>"
      ],
      "text/plain": [
       "Unexpected JPEG decode failure\t file: data/oranges/ 71291416_cc82cdc745.jpg"
      ]
     },
     "metadata": {},
     "output_type": "display_data"
    },
    {
     "data": {
      "text/html": [
       "<pre>Unexpected JPEG decode failure\t file: data/oranges/ 76661171_2bfe069329.jpg</pre>"
      ],
      "text/plain": [
       "Unexpected JPEG decode failure\t file: data/oranges/ 76661171_2bfe069329.jpg"
      ]
     },
     "metadata": {},
     "output_type": "display_data"
    },
    {
     "data": {
      "text/html": [
       "<pre>Unexpected JPEG decode failure\t file: data/oranges/ 78904958_f7cbc963cf.jpg</pre>"
      ],
      "text/plain": [
       "Unexpected JPEG decode failure\t file: data/oranges/ 78904958_f7cbc963cf.jpg"
      ]
     },
     "metadata": {},
     "output_type": "display_data"
    },
    {
     "data": {
      "text/html": [
       "<pre>Unexpected JPEG decode failure\t file: data/oranges/ 84314303_f70905051c.jpg</pre>"
      ],
      "text/plain": [
       "Unexpected JPEG decode failure\t file: data/oranges/ 84314303_f70905051c.jpg"
      ]
     },
     "metadata": {},
     "output_type": "display_data"
    },
    {
     "data": {
      "text/html": [
       "<pre>Unexpected JPEG decode failure\t file: data/oranges/ 86588602_921cf66f5f.jpg</pre>"
      ],
      "text/plain": [
       "Unexpected JPEG decode failure\t file: data/oranges/ 86588602_921cf66f5f.jpg"
      ]
     },
     "metadata": {},
     "output_type": "display_data"
    },
    {
     "data": {
      "text/html": [
       "<pre>Unexpected JPEG decode failure\t file: data/oranges/ 876728578_94f0c5ba43.jpg</pre>"
      ],
      "text/plain": [
       "Unexpected JPEG decode failure\t file: data/oranges/ 876728578_94f0c5ba43.jpg"
      ]
     },
     "metadata": {},
     "output_type": "display_data"
    },
    {
     "data": {
      "text/html": [
       "<pre>Unexpected JPEG decode failure\t file: data/oranges/ 90289230_2fb9fce964.jpg</pre>"
      ],
      "text/plain": [
       "Unexpected JPEG decode failure\t file: data/oranges/ 90289230_2fb9fce964.jpg"
      ]
     },
     "metadata": {},
     "output_type": "display_data"
    },
    {
     "data": {
      "text/html": [
       "<pre>Unexpected JPEG decode failure\t file: data/oranges/ 94379035_396d432f2e.jpg</pre>"
      ],
      "text/plain": [
       "Unexpected JPEG decode failure\t file: data/oranges/ 94379035_396d432f2e.jpg"
      ]
     },
     "metadata": {},
     "output_type": "display_data"
    },
    {
     "data": {
      "text/html": [
       "<pre>Unexpected JPEG decode failure\t file: data/oranges/ 94569407_d2d1ef39f7.jpg</pre>"
      ],
      "text/plain": [
       "Unexpected JPEG decode failure\t file: data/oranges/ 94569407_d2d1ef39f7.jpg"
      ]
     },
     "metadata": {},
     "output_type": "display_data"
    },
    {
     "data": {
      "text/html": [
       "<pre>Unexpected JPEG decode failure\t file: data/oranges/ 94970050_fa6181d944.jpg</pre>"
      ],
      "text/plain": [
       "Unexpected JPEG decode failure\t file: data/oranges/ 94970050_fa6181d944.jpg"
      ]
     },
     "metadata": {},
     "output_type": "display_data"
    },
    {
     "data": {
      "text/html": [
       "<pre>Unexpected JPEG decode failure\t file: data/oranges/ 96922572_495d40bea4.jpg</pre>"
      ],
      "text/plain": [
       "Unexpected JPEG decode failure\t file: data/oranges/ 96922572_495d40bea4.jpg"
      ]
     },
     "metadata": {},
     "output_type": "display_data"
    },
    {
     "data": {
      "text/html": [
       "<pre>Unexpected JPEG decode failure\t file: data/oranges/ 97638368_044801e6d6.jpg</pre>"
      ],
      "text/plain": [
       "Unexpected JPEG decode failure\t file: data/oranges/ 97638368_044801e6d6.jpg"
      ]
     },
     "metadata": {},
     "output_type": "display_data"
    },
    {
     "data": {
      "text/html": [
       "<pre>Unexpected JPEG decode failure\t file: data/oranges/ 98970159_4860fd8788.jpg</pre>"
      ],
      "text/plain": [
       "Unexpected JPEG decode failure\t file: data/oranges/ 98970159_4860fd8788.jpg"
      ]
     },
     "metadata": {},
     "output_type": "display_data"
    }
   ],
   "source": [
    "data = tc.image_analysis.load_images('data/', with_path=True)"
   ]
  },
  {
   "cell_type": "code",
   "execution_count": 22,
   "metadata": {},
   "outputs": [],
   "source": [
    "data['label'] = data['path'].apply(lambda path: 'apple' if '/apples' in path else 'orange')"
   ]
  },
  {
   "cell_type": "code",
   "execution_count": 23,
   "metadata": {},
   "outputs": [],
   "source": [
    "data.save('apples-oranges.sframe')"
   ]
  }
 ],
 "metadata": {
  "kernelspec": {
   "display_name": "venv",
   "language": "python",
   "name": "venv"
  },
  "language_info": {
   "codemirror_mode": {
    "name": "ipython",
    "version": 3
   },
   "file_extension": ".py",
   "mimetype": "text/x-python",
   "name": "python",
   "nbconvert_exporter": "python",
   "pygments_lexer": "ipython3",
   "version": "3.6.5"
  }
 },
 "nbformat": 4,
 "nbformat_minor": 2
}
